{
 "cells": [
  {
   "cell_type": "code",
   "execution_count": 1,
   "id": "0807ed0b",
   "metadata": {},
   "outputs": [],
   "source": [
    "##### Purpose:  combine 04 labeled sentences into one file. \n",
    "##### Author: Julia Cope\n",
    "##### Creation Date: 4/30/23\n",
    "##### Project: A2 NLP - capturing climate claims \n",
    "##### Inputs: 04_labeled_sampledata.csv\n",
    "##### Inputs: 04B_labeled_sampledata.csv\n",
    "##### Inputs: 04C_labeled_sampledata.csv\n",
    "##### Output: \n",
    "##### Output: \n",
    "##### Output:"
   ]
  },
  {
   "cell_type": "code",
   "execution_count": 2,
   "id": "f27f936b",
   "metadata": {},
   "outputs": [],
   "source": [
    "### libraries\n",
    "import os\n",
    "import pandas as pd"
   ]
  },
  {
   "cell_type": "code",
   "execution_count": 3,
   "id": "6e851559",
   "metadata": {},
   "outputs": [],
   "source": [
    "### read in data \n",
    "df_A = pd.read_csv('03_Outputs/04_labeled_sampledata.csv',parse_dates=['Date'])\n",
    "#sent_df = pd.read_csv('03_Outputs/02_PR_sentences.csv',parse_dates=['Date'])\n",
    "df_A['Year'] = df_A['Date'].dt.year "
   ]
  },
  {
   "cell_type": "code",
   "execution_count": 4,
   "id": "c5df0860",
   "metadata": {},
   "outputs": [],
   "source": [
    "df_B = pd.read_csv('03_Outputs/04B_labeled_sampledata.csv',parse_dates=['Date'])\n",
    "#sent_df = pd.read_csv('03_Outputs/02_PR_sentences.csv',parse_dates=['Date'])\n",
    "df_B['Year'] = df_B['Date'].dt.year "
   ]
  },
  {
   "cell_type": "code",
   "execution_count": 5,
   "id": "98a7c6e9",
   "metadata": {},
   "outputs": [],
   "source": [
    "df_C = pd.read_csv('03_Outputs/04C_labeled_sampledata.csv',parse_dates=['Date'])\n",
    "#sent_df = pd.read_csv('03_Outputs/02_PR_sentences.csv',parse_dates=['Date'])\n",
    "df_C['Year'] = df_C['Date'].dt.year "
   ]
  },
  {
   "cell_type": "code",
   "execution_count": 6,
   "id": "703c8d6a",
   "metadata": {},
   "outputs": [
    {
     "data": {
      "text/plain": [
       "['index',\n",
       " 'Date',\n",
       " 'company',\n",
       " 'sentences',\n",
       " 'ClimateLabel',\n",
       " 'Year',\n",
       " 'climate_score',\n",
       " 'likely']"
      ]
     },
     "execution_count": 6,
     "metadata": {},
     "output_type": "execute_result"
    }
   ],
   "source": [
    "df_A.columns.tolist()"
   ]
  },
  {
   "cell_type": "code",
   "execution_count": 7,
   "id": "f73ad967",
   "metadata": {},
   "outputs": [
    {
     "data": {
      "text/plain": [
       "['index',\n",
       " 'Date',\n",
       " 'company',\n",
       " 'sentences',\n",
       " 'ClimateLabel',\n",
       " 'Year',\n",
       " 'climate_score',\n",
       " 'likely']"
      ]
     },
     "execution_count": 7,
     "metadata": {},
     "output_type": "execute_result"
    }
   ],
   "source": [
    "df_B.columns.tolist()"
   ]
  },
  {
   "cell_type": "code",
   "execution_count": 8,
   "id": "b24aad34",
   "metadata": {
    "scrolled": true
   },
   "outputs": [
    {
     "data": {
      "text/plain": [
       "['index',\n",
       " 'Date',\n",
       " 'company',\n",
       " 'sentences',\n",
       " 'ClimateLabel',\n",
       " 'Year',\n",
       " 'climate_score',\n",
       " 'likely']"
      ]
     },
     "execution_count": 8,
     "metadata": {},
     "output_type": "execute_result"
    }
   ],
   "source": [
    "df_C.columns.tolist()"
   ]
  },
  {
   "cell_type": "code",
   "execution_count": 9,
   "id": "48db90bc",
   "metadata": {},
   "outputs": [],
   "source": [
    "df_concat = pd.concat([df_A, df_B])"
   ]
  },
  {
   "cell_type": "code",
   "execution_count": 10,
   "id": "5b9f9743",
   "metadata": {},
   "outputs": [],
   "source": [
    "df_concat = pd.concat([df_concat, df_C])"
   ]
  },
  {
   "cell_type": "code",
   "execution_count": 12,
   "id": "c61c6aee",
   "metadata": {},
   "outputs": [],
   "source": [
    "### export file\n",
    "path = \"C:\\\\Users\\\\julia\\\\OneDrive\\\\Desktop\\\\NLP\"\n",
    "\n",
    "# Change the directory\n",
    "os.chdir(path)\n",
    "df_concat.to_csv('03_Outputs/04D_FULL_labeled_sampledata.csv',index=False)"
   ]
  },
  {
   "cell_type": "code",
   "execution_count": null,
   "id": "b74872e4",
   "metadata": {},
   "outputs": [],
   "source": []
  },
  {
   "cell_type": "code",
   "execution_count": null,
   "id": "72a681bf",
   "metadata": {},
   "outputs": [],
   "source": []
  },
  {
   "cell_type": "code",
   "execution_count": null,
   "id": "de5333ce",
   "metadata": {},
   "outputs": [],
   "source": []
  }
 ],
 "metadata": {
  "kernelspec": {
   "display_name": "Python 3 (ipykernel)",
   "language": "python",
   "name": "python3"
  },
  "language_info": {
   "codemirror_mode": {
    "name": "ipython",
    "version": 3
   },
   "file_extension": ".py",
   "mimetype": "text/x-python",
   "name": "python",
   "nbconvert_exporter": "python",
   "pygments_lexer": "ipython3",
   "version": "3.9.13"
  }
 },
 "nbformat": 4,
 "nbformat_minor": 5
}
